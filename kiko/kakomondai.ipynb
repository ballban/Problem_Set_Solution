{
 "cells": [
  {
   "cell_type": "code",
   "execution_count": 3,
   "metadata": {},
   "outputs": [
    {
     "name": "stdout",
     "output_type": "stream",
     "text": [
      "33.0\n",
      "33.0\n"
     ]
    }
   ],
   "source": [
    "def Collatz(input1, num_list):\n",
    "    _, k = input1\n",
    "    for _ in range(k):\n",
    "        for i, n in enumerate(num_list):\n",
    "            if n % 2 == 0:\n",
    "                num_list[i] = n / 2\n",
    "            else:\n",
    "                num_list[i] = 3 * n + 1\n",
    "    return sum(num_list)\n",
    "\n",
    "\n",
    "input1 = [5, 1]\n",
    "input2 = [1, 2, 3, 4, 5]\n",
    "print(Collatz(input1, input2))\n",
    "\n",
    "input1 = [6, 3]\n",
    "input2 = [3, 1, 4, 1, 5, 9]\n",
    "print(Collatz(input1, input2))"
   ]
  },
  {
   "cell_type": "code",
   "execution_count": null,
   "metadata": {},
   "outputs": [],
   "source": [
    "def Mobile_Game():\n",
    "    "
   ]
  }
 ],
 "metadata": {
  "kernelspec": {
   "display_name": ".venv",
   "language": "python",
   "name": "python3"
  },
  "language_info": {
   "codemirror_mode": {
    "name": "ipython",
    "version": 3
   },
   "file_extension": ".py",
   "mimetype": "text/x-python",
   "name": "python",
   "nbconvert_exporter": "python",
   "pygments_lexer": "ipython3",
   "version": "3.10.12"
  }
 },
 "nbformat": 4,
 "nbformat_minor": 2
}
