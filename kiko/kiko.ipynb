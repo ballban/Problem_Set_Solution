{
 "cells": [
  {
   "cell_type": "code",
   "execution_count": 5,
   "metadata": {},
   "outputs": [
    {
     "name": "stdout",
     "output_type": "stream",
     "text": [
      "i: 0, cumulative_sum: 4\n",
      "i: 1, cumulative_sum: 3\n",
      "i: 2, cumulative_sum: 2\n",
      "i: 3, cumulative_sum: 8\n",
      "i: 4, cumulative_sum: 2\n",
      "i: 5, cumulative_sum: 3\n",
      "i: 6, cumulative_sum: 5\n",
      "i: 7, cumulative_sum: 2\n",
      "5\n"
     ]
    }
   ],
   "source": [
    "# 6. Subarrays and Sliding Windows\n",
    "# Problem 10: Find the length of the longest subarray with sum 0 using a hash map.\n",
    "nums = [1, 2, -3, 4, -1, -1, 6, -6]  # output is 3\n",
    "nums = [4, -1, -1, 6, -6, 1, 2, -3]\n",
    "\n",
    "\n",
    "def longest_zero_sum_subarray(nums):\n",
    "    hashmap = {}  # To store the first occurrence of cumulative sums\n",
    "    cumulative_sum = 0  # Initialize cumulative sum\n",
    "    max_length = 0  # To keep track of the maximum length\n",
    "\n",
    "    for i, num in enumerate(nums):\n",
    "        cumulative_sum += num  # Update cumulative sum\n",
    "        print(f\"i: {i}, cumulative_sum: {cumulative_sum}\")\n",
    "\n",
    "        # If cumulative sum is 0, update max_length\n",
    "        if cumulative_sum == 0:\n",
    "            max_length = i + 1\n",
    "\n",
    "        # If cumulative sum has been seen before, calculate subarray length\n",
    "        if cumulative_sum in hashmap:\n",
    "            max_length = max(max_length, i - hashmap[cumulative_sum])\n",
    "        else:\n",
    "            # Store the first occurrence of the cumulative sum\n",
    "            hashmap[cumulative_sum] = i\n",
    "\n",
    "    return max_length\n",
    "\n",
    "\n",
    "print(longest_zero_sum_subarray(nums))"
   ]
  },
  {
   "cell_type": "code",
   "execution_count": 14,
   "metadata": {},
   "outputs": [
    {
     "name": "stdout",
     "output_type": "stream",
     "text": [
      "i: 0, cumulative_sum: 1\n",
      "i: 1, cumulative_sum: 0\n",
      "i: 2, cumulative_sum: 5\n",
      "i: 3, cumulative_sum: 3\n",
      "i: 4, cumulative_sum: 6\n",
      "4\n"
     ]
    }
   ],
   "source": [
    "# Write a function that finds the longest subarray whose elements sum up to a given target sum.\n",
    "\n",
    "numbers = [1, -1, 5, -2, 3]\n",
    "target = 3\n",
    "# Output: 4 ([1, -1, 5, -2])\n",
    "\n",
    "\n",
    "def longest_target_sum_subarray(nums, target):\n",
    "    hashmap = {}  # To store the first occurrence of cumulative sums\n",
    "    cumulative_sum = 0  # Initialize cumulative sum\n",
    "    max_length = 0  # To keep track of the maximum length\n",
    "\n",
    "    for i, num in enumerate(nums):\n",
    "        cumulative_sum += num  # Update cumulative sum\n",
    "        print(f\"i: {i}, cumulative_sum: {cumulative_sum}\")\n",
    "\n",
    "        # If cumulative sum is 0, update max_length\n",
    "        if cumulative_sum == 0 + target:\n",
    "            max_length = i + 1\n",
    "\n",
    "        # If cumulative sum has been seen before, calculate subarray length\n",
    "        if cumulative_sum in hashmap:\n",
    "            max_length = max(max_length, i - hashmap[cumulative_sum])\n",
    "        else:\n",
    "            # Store the first occurrence of the cumulative sum\n",
    "            hashmap[cumulative_sum] = i\n",
    "\n",
    "    return max_length\n",
    "\n",
    "\n",
    "print(longest_target_sum_subarray(numbers, target))"
   ]
  }
 ],
 "metadata": {
  "kernelspec": {
   "display_name": ".venv",
   "language": "python",
   "name": "python3"
  },
  "language_info": {
   "codemirror_mode": {
    "name": "ipython",
    "version": 3
   },
   "file_extension": ".py",
   "mimetype": "text/x-python",
   "name": "python",
   "nbconvert_exporter": "python",
   "pygments_lexer": "ipython3",
   "version": "3.10.12"
  }
 },
 "nbformat": 4,
 "nbformat_minor": 2
}
